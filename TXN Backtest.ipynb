{
 "cells": [
  {
   "cell_type": "markdown",
   "id": "473d7335",
   "metadata": {},
   "source": [
    "# Probabilistic Simulation for TXN Backtesting\n",
    "\n",
    "How many tests we need to run to be sure that there are no errors?\n",
    "\n",
    "\n",
    "## What Is TXN Backtesting\n",
    "\n",
    "TXN stands for Transaction check - which is a small script that executes several steps in headless Chrome instance on our check servers. We support 26 different step types (commands and validations) that allows our customers to simulate user flows on their websites and be sure that everything works as expected.\n",
    "\n",
    "We call backtesting a procedure of checking new versions of our software (or chrome version upgrades) using real clients' checks (scripts). During this procedure we run checks using old and new versions and compare results. Ideally results (OK/Not OK) in the new and old versions should be the same.\n",
    "\n",
    "Why we need backtesting? Aren't regression tests enough? Appears not. We have such tests that checks each step type on our synthetic examples and sometimes they miss bugs which are detected by backtesting. Second issue that can be missed by our tests is backward comatibility of the new versions. Sometimes new versions introduce slight changes in how our steps work and this can result in false positives alerts to our clients which we want to avoid at all costs. \n",
    "\n",
    "Ideally we would want to test all existing clients' checks for every new release, but practically this is not possible since there are too much checks and backtesting will take too much time. So we do backtesting only on some randomly selected subset of checks. Question is how many checks we need to backtest to be sure there are no errors?\n",
    "\n",
    "So our goal is to formalize approach of selecting the number of checks we need to backtest. We want to answer one of the following questions:\n",
    " * How much checks we need to backtest to be sure that there is no errors with the certain level of probability or\n",
    " * If we test `X` checks what is the probability that tere is no errors\n",
    " "
   ]
  },
  {
   "cell_type": "markdown",
   "id": "2d2b38d6",
   "metadata": {},
   "source": [
    "## Probability of missing an Error\n",
    "\n",
    "Let's caclulate probability of missing an error when it is there using simulations\n",
    "\n",
    "Let\n",
    " * `N` is the total number of checks we have\n",
    " * `M` is the number of checks that have error \n",
    " \n",
    "We are going to run our backtesting simulation: we will randomly choose elements from our checks and see if there are any broken ones. We run this procedure many times and the calcualte ratio of how many times we successfully \n",
    "detected broken checks to the total number of runs. This will be our probablitiy of detecting bugs via backtesting.\n"
   ]
  },
  {
   "cell_type": "code",
   "execution_count": 54,
   "id": "4a7a30ce",
   "metadata": {},
   "outputs": [],
   "source": [
    "import numpy as np\n",
    "import matplotlib.pyplot as plt\n"
   ]
  },
  {
   "cell_type": "code",
   "execution_count": 139,
   "id": "3a8a0d4e",
   "metadata": {},
   "outputs": [],
   "source": [
    "# experiment\n",
    "def simulate(total_checks, num_errors, backtest, num_experiments=10000):\n",
    "    checks = np.zeros(total_checks)\n",
    "    checks[:num_errors] = 1  # errors\n",
    "    np.random.shuffle(checks)\n",
    "    errors_detected = 0\n",
    "    for i in range(num_experiments):\n",
    "        X = np.random.choice(checks, backtest, replace=False)\n",
    "        errors_detected += sum(X) != 0\n",
    "    \n",
    "    return errors_detected / num_experiments"
   ]
  },
  {
   "cell_type": "code",
   "execution_count": 140,
   "id": "eeacb82a",
   "metadata": {},
   "outputs": [
    {
     "data": {
      "text/plain": [
       "0.0542"
      ]
     },
     "execution_count": 140,
     "metadata": {},
     "output_type": "execute_result"
    }
   ],
   "source": [
    "N = 1852\n",
    "M = 1 # 1 means only 1 check fails in new version\n",
    "backtest_size = 100\n",
    "simulate(N, M, backtest_size)"
   ]
  },
  {
   "cell_type": "markdown",
   "id": "063750cb",
   "metadata": {},
   "source": [
    "So what we have here is the probablity of detecting an error running backtest on 100 checks out of 1852 in case there is a single error in all checks.\n",
    "\n",
    "Let's see how this probablity changes if we increase the number of checks we are backtesting"
   ]
  },
  {
   "cell_type": "code",
   "execution_count": 57,
   "id": "164de64e",
   "metadata": {},
   "outputs": [],
   "source": [
    "x = []\n",
    "y = []\n",
    "for backtest_size in range(100, 1852, 100):\n",
    "    x.append(backtest_size)\n",
    "    y.append(simulate(N, 1, backtest_size))"
   ]
  },
  {
   "cell_type": "markdown",
   "id": "5fe123b7",
   "metadata": {},
   "source": [
    "let's see it on a graph"
   ]
  },
  {
   "cell_type": "code",
   "execution_count": 58,
   "id": "de62d81c",
   "metadata": {
    "scrolled": true
   },
   "outputs": [
    {
     "data": {
      "image/png": "[encoded data removed]",
      "text/plain": [
       "<Figure size 432x288 with 1 Axes>"
      ]
     },
     "metadata": {
      "needs_background": "light"
     },
     "output_type": "display_data"
    }
   ],
   "source": [
    "plt.plot(x, y)\n",
    "plt.axhline(y=0.9, color='red', linestyle='--')\n",
    "plt.show()"
   ]
  },
  {
   "cell_type": "markdown",
   "id": "c01a259e",
   "metadata": {},
   "source": [
    "So we can see that to catch a single error with probability more than 90% we need to backtest almost all checks.\n",
    "\n",
    "This was very specific edge case when error occurs only in a single check. In reality when we introduce an error in the new version of software usually many checks got broken. How to estimate? \n",
    "\n",
    "Our checks consist of a number of steps and each step can be only of a certain type. There are only 26 different step types. Let's assume we've introduced an error only in 1 step and that all steps are uniformly distributes over all checks we have (in reality of course there are popupalar and less popular steps), then the number of broken checks will be N/26"
   ]
  },
  {
   "cell_type": "code",
   "execution_count": 63,
   "id": "18e0f6fc",
   "metadata": {},
   "outputs": [
    {
     "data": {
      "text/plain": [
       "71"
      ]
     },
     "execution_count": 63,
     "metadata": {},
     "output_type": "execute_result"
    }
   ],
   "source": [
    "M = N // 26\n",
    "M"
   ]
  },
  {
   "cell_type": "markdown",
   "id": "6fb76ffc",
   "metadata": {},
   "source": [
    "Let's run our simulation again with the new number of failed checks"
   ]
  },
  {
   "cell_type": "code",
   "execution_count": 66,
   "id": "51c53291",
   "metadata": {},
   "outputs": [],
   "source": [
    "x = []\n",
    "y = []\n",
    "for backtest_size in range(100, N, 100):\n",
    "    x.append(backtest_size)\n",
    "    y.append(simulate(N, M, backtest_size, num_experiments=1000))"
   ]
  },
  {
   "cell_type": "code",
   "execution_count": 67,
   "id": "2d35aa28",
   "metadata": {
    "scrolled": true
   },
   "outputs": [
    {
     "data": {
      "image/png": "[encoded data removed]",
      "text/plain": [
       "<Figure size 432x288 with 1 Axes>"
      ]
     },
     "metadata": {
      "needs_background": "light"
     },
     "output_type": "display_data"
    }
   ],
   "source": [
    "plt.plot(x, y)\n",
    "plt.axhline(y=0.95, color='red', linestyle='--')\n",
    "plt.show()"
   ]
  },
  {
   "cell_type": "markdown",
   "id": "54afb689",
   "metadata": {},
   "source": [
    "We see that at **100 checks we have more than 95% probability** of detecting a failure, when there is an error on any step that affects all checks. Thinking a bit we realize that this number is also not very practical. There are errors that can affect checks partially. So we need to come up with another condition.\n",
    "\n",
    "Since we really care about false alarms we can set a reasonable threshold of how many false alarms are acceptable and manageable by our support department. After internal consultations we decided that 1% of fals alarms is OK for us. Let see what numbers this gives us."
   ]
  },
  {
   "cell_type": "code",
   "execution_count": 69,
   "id": "15181f20",
   "metadata": {},
   "outputs": [
    {
     "data": {
      "text/plain": [
       "18"
      ]
     },
     "execution_count": 69,
     "metadata": {},
     "output_type": "execute_result"
    }
   ],
   "source": [
    "M = int(N * 0.01)\n",
    "M"
   ]
  },
  {
   "cell_type": "code",
   "execution_count": 121,
   "id": "1a7f7035",
   "metadata": {},
   "outputs": [
    {
     "data": {
      "image/png": "[encoded data removed]",
      "text/plain": [
       "<Figure size 432x288 with 1 Axes>"
      ]
     },
     "metadata": {
      "needs_background": "light"
     },
     "output_type": "display_data"
    }
   ],
   "source": [
    "x = []\n",
    "y = []\n",
    "for backtest_size in range(100, N, 100):\n",
    "    x.append(backtest_size)\n",
    "    y.append(simulate(N, M, backtest_size, num_experiments=1000))\n",
    "    \n",
    "plt.plot(x, y)\n",
    "plt.axhline(y=0.95, color='red', linestyle='--')\n",
    "plt.show()"
   ]
  },
  {
   "cell_type": "markdown",
   "id": "f01c864f",
   "metadata": {},
   "source": [
    "We see that between 250 and 500 checks we achieve the desired level of confidence. Let's write a function that can find the number more preciesly by running several simulaions adjusting backtest size on each iteration to make our probability to be close to the desired confidence value with defined prescision"
   ]
  },
  {
   "cell_type": "code",
   "execution_count": 126,
   "id": "b33ad787",
   "metadata": {},
   "outputs": [
    {
     "name": "stdout",
     "output_type": "stream",
     "text": [
      "Trying 100 backtest size, increase=100, delta=-0.95\n",
      "Trying 300 backtest size, increase=200, delta=-0.32399999999999995\n",
      "Result prob=0.956 with 300 backtest size, delta=0.006000000000000005\n"
     ]
    },
    {
     "data": {
      "text/plain": [
       "300"
      ]
     },
     "execution_count": 126,
     "metadata": {},
     "output_type": "execute_result"
    }
   ],
   "source": [
    "def sample_size_finder(N, M, start=100, confidence=0.95, prescision=0.01, num_experiments=1000, verbose=False):\n",
    "    delta = 0 - confidence\n",
    "    prev_delta = delta\n",
    "    backtest_size = start\n",
    "    backtest_increase = backtest_size\n",
    "    \n",
    "    while True:\n",
    "        if verbose:\n",
    "             print(f'Trying {backtest_size} backtest size, increase={backtest_increase}, delta={delta}')\n",
    "        prob = simulate(N, M, backtest_size, num_experiments)\n",
    "        delta = prob - confidence\n",
    "        if np.abs(delta) <= prescision:\n",
    "            break\n",
    "        if delta / prev_delta < 0:\n",
    "            backtest_increase = int(backtest_increase / 2)\n",
    "        else:\n",
    "            backtest_increase *= 2\n",
    "        if delta < 0:\n",
    "            backtest_size += backtest_increase\n",
    "            if backtest_size > N:\n",
    "                backtest_size = N\n",
    "        else:\n",
    "            backtest_size -= backtest_increase\n",
    "            if backtest_size < 1:\n",
    "                backtest_size = 1\n",
    "        previous_delta = delta\n",
    "    if verbose:\n",
    "        print(f'Result prob={prob} with {backtest_size} backtest size, delta={delta}')\n",
    "    return backtest_size\n",
    "    \n",
    "sample_size_finder(N, M, 100, verbose=True)"
   ]
  },
  {
   "cell_type": "markdown",
   "id": "0d301b5a",
   "metadata": {},
   "source": [
    "What percent of inital population is it?"
   ]
  },
  {
   "cell_type": "code",
   "execution_count": 95,
   "id": "a20bc3ff",
   "metadata": {},
   "outputs": [
    {
     "data": {
      "text/plain": [
       "16.666666666666668"
      ]
     },
     "execution_count": 95,
     "metadata": {},
     "output_type": "execute_result"
    }
   ],
   "source": [
    "300 / M"
   ]
  },
  {
   "cell_type": "markdown",
   "id": "15b8b31d",
   "metadata": {},
   "source": [
    "Let's explore how backtest size changes when total numbed ot checks changes, but the desired percent of failed checks stays constant and equal 1%"
   ]
  },
  {
   "cell_type": "code",
   "execution_count": 127,
   "id": "bfd6c669",
   "metadata": {},
   "outputs": [
    {
     "data": {
      "text/html": [
       "<div>\n",
       "<style scoped>\n",
       "    .dataframe tbody tr th:only-of-type {\n",
       "        vertical-align: middle;\n",
       "    }\n",
       "\n",
       "    .dataframe tbody tr th {\n",
       "        vertical-align: top;\n",
       "    }\n",
       "\n",
       "    .dataframe thead th {\n",
       "        text-align: right;\n",
       "    }\n",
       "</style>\n",
       "<table border=\"1\" class=\"dataframe\">\n",
       "  <thead>\n",
       "    <tr style=\"text-align: right;\">\n",
       "      <th></th>\n",
       "      <th>Population</th>\n",
       "      <th>Sample size</th>\n",
       "      <th>Ratio</th>\n",
       "    </tr>\n",
       "  </thead>\n",
       "  <tbody>\n",
       "    <tr>\n",
       "      <th>0</th>\n",
       "      <td>1000</td>\n",
       "      <td>250</td>\n",
       "      <td>0.250000</td>\n",
       "    </tr>\n",
       "    <tr>\n",
       "      <th>1</th>\n",
       "      <td>10000</td>\n",
       "      <td>300</td>\n",
       "      <td>0.030000</td>\n",
       "    </tr>\n",
       "    <tr>\n",
       "      <th>2</th>\n",
       "      <td>20000</td>\n",
       "      <td>300</td>\n",
       "      <td>0.015000</td>\n",
       "    </tr>\n",
       "    <tr>\n",
       "      <th>3</th>\n",
       "      <td>30000</td>\n",
       "      <td>300</td>\n",
       "      <td>0.010000</td>\n",
       "    </tr>\n",
       "    <tr>\n",
       "      <th>4</th>\n",
       "      <td>40000</td>\n",
       "      <td>300</td>\n",
       "      <td>0.007500</td>\n",
       "    </tr>\n",
       "    <tr>\n",
       "      <th>5</th>\n",
       "      <td>50000</td>\n",
       "      <td>300</td>\n",
       "      <td>0.006000</td>\n",
       "    </tr>\n",
       "    <tr>\n",
       "      <th>6</th>\n",
       "      <td>60000</td>\n",
       "      <td>300</td>\n",
       "      <td>0.005000</td>\n",
       "    </tr>\n",
       "    <tr>\n",
       "      <th>7</th>\n",
       "      <td>70000</td>\n",
       "      <td>300</td>\n",
       "      <td>0.004286</td>\n",
       "    </tr>\n",
       "    <tr>\n",
       "      <th>8</th>\n",
       "      <td>80000</td>\n",
       "      <td>300</td>\n",
       "      <td>0.003750</td>\n",
       "    </tr>\n",
       "    <tr>\n",
       "      <th>9</th>\n",
       "      <td>90000</td>\n",
       "      <td>300</td>\n",
       "      <td>0.003333</td>\n",
       "    </tr>\n",
       "    <tr>\n",
       "      <th>10</th>\n",
       "      <td>100000</td>\n",
       "      <td>300</td>\n",
       "      <td>0.003000</td>\n",
       "    </tr>\n",
       "  </tbody>\n",
       "</table>\n",
       "</div>"
      ],
      "text/plain": [
       "    Population  Sample size     Ratio\n",
       "0         1000          250  0.250000\n",
       "1        10000          300  0.030000\n",
       "2        20000          300  0.015000\n",
       "3        30000          300  0.010000\n",
       "4        40000          300  0.007500\n",
       "5        50000          300  0.006000\n",
       "6        60000          300  0.005000\n",
       "7        70000          300  0.004286\n",
       "8        80000          300  0.003750\n",
       "9        90000          300  0.003333\n",
       "10      100000          300  0.003000"
      ]
     },
     "execution_count": 127,
     "metadata": {},
     "output_type": "execute_result"
    }
   ],
   "source": [
    "import pandas as pd\n",
    "from multiprocessing import Pool, cpu_count\n",
    "\n",
    "res = []\n",
    "args = [(1000, 10)]\n",
    "for n in range(10000, 110000, 10000):\n",
    "    m = n // 100\n",
    "    args.append((n,m))\n",
    "    \n",
    "with Pool(cpu_count() - 1) as p:\n",
    "    samples = p.starmap(sample_size_finder, args)\n",
    "\n",
    "for s, (n, m) in zip(samples, args):\n",
    "    res.append([n, s, s/n])\n",
    "\n",
    "df = pd.DataFrame(res, columns=['Population', 'Sample size', 'Ratio'])\n",
    "df"
   ]
  },
  {
   "cell_type": "markdown",
   "id": "10247083",
   "metadata": {},
   "source": [
    "Interesting - appears that number of checks we need to test doesn't changes at all and after 300 checks we can be sure that no more than 1% of total checks can fail.\n",
    "\n",
    "Now lets keep constant absolute number of checks we allow to fail and see how our sample size changes"
   ]
  },
  {
   "cell_type": "code",
   "execution_count": 128,
   "id": "ec9fbded",
   "metadata": {
    "scrolled": false
   },
   "outputs": [
    {
     "data": {
      "text/html": [
       "<div>\n",
       "<style scoped>\n",
       "    .dataframe tbody tr th:only-of-type {\n",
       "        vertical-align: middle;\n",
       "    }\n",
       "\n",
       "    .dataframe tbody tr th {\n",
       "        vertical-align: top;\n",
       "    }\n",
       "\n",
       "    .dataframe thead th {\n",
       "        text-align: right;\n",
       "    }\n",
       "</style>\n",
       "<table border=\"1\" class=\"dataframe\">\n",
       "  <thead>\n",
       "    <tr style=\"text-align: right;\">\n",
       "      <th></th>\n",
       "      <th>Population</th>\n",
       "      <th>Sample size</th>\n",
       "      <th>Ratio</th>\n",
       "    </tr>\n",
       "  </thead>\n",
       "  <tbody>\n",
       "    <tr>\n",
       "      <th>0</th>\n",
       "      <td>1000</td>\n",
       "      <td>250</td>\n",
       "      <td>0.250000</td>\n",
       "    </tr>\n",
       "    <tr>\n",
       "      <th>1</th>\n",
       "      <td>10000</td>\n",
       "      <td>1300</td>\n",
       "      <td>0.130000</td>\n",
       "    </tr>\n",
       "    <tr>\n",
       "      <th>2</th>\n",
       "      <td>20000</td>\n",
       "      <td>2700</td>\n",
       "      <td>0.135000</td>\n",
       "    </tr>\n",
       "    <tr>\n",
       "      <th>3</th>\n",
       "      <td>30000</td>\n",
       "      <td>3900</td>\n",
       "      <td>0.130000</td>\n",
       "    </tr>\n",
       "    <tr>\n",
       "      <th>4</th>\n",
       "      <td>40000</td>\n",
       "      <td>5900</td>\n",
       "      <td>0.147500</td>\n",
       "    </tr>\n",
       "    <tr>\n",
       "      <th>5</th>\n",
       "      <td>50000</td>\n",
       "      <td>7100</td>\n",
       "      <td>0.142000</td>\n",
       "    </tr>\n",
       "    <tr>\n",
       "      <th>6</th>\n",
       "      <td>60000</td>\n",
       "      <td>7900</td>\n",
       "      <td>0.131667</td>\n",
       "    </tr>\n",
       "    <tr>\n",
       "      <th>7</th>\n",
       "      <td>70000</td>\n",
       "      <td>9500</td>\n",
       "      <td>0.135714</td>\n",
       "    </tr>\n",
       "    <tr>\n",
       "      <th>8</th>\n",
       "      <td>80000</td>\n",
       "      <td>11100</td>\n",
       "      <td>0.138750</td>\n",
       "    </tr>\n",
       "    <tr>\n",
       "      <th>9</th>\n",
       "      <td>90000</td>\n",
       "      <td>12700</td>\n",
       "      <td>0.141111</td>\n",
       "    </tr>\n",
       "    <tr>\n",
       "      <th>10</th>\n",
       "      <td>100000</td>\n",
       "      <td>13500</td>\n",
       "      <td>0.135000</td>\n",
       "    </tr>\n",
       "  </tbody>\n",
       "</table>\n",
       "</div>"
      ],
      "text/plain": [
       "    Population  Sample size     Ratio\n",
       "0         1000          250  0.250000\n",
       "1        10000         1300  0.130000\n",
       "2        20000         2700  0.135000\n",
       "3        30000         3900  0.130000\n",
       "4        40000         5900  0.147500\n",
       "5        50000         7100  0.142000\n",
       "6        60000         7900  0.131667\n",
       "7        70000         9500  0.135714\n",
       "8        80000        11100  0.138750\n",
       "9        90000        12700  0.141111\n",
       "10      100000        13500  0.135000"
      ]
     },
     "execution_count": 128,
     "metadata": {},
     "output_type": "execute_result"
    }
   ],
   "source": [
    "import pandas as pd\n",
    "from multiprocessing import Pool, cpu_count\n",
    "\n",
    "res = []\n",
    "args = [(1000, 10)]\n",
    "for n in range(10000, 110000, 10000):\n",
    "    m = 20\n",
    "    args.append((n,m))\n",
    "    \n",
    "with Pool(cpu_count() - 1) as p:\n",
    "    samples = p.starmap(sample_size_finder, args)\n",
    "\n",
    "for s, (n, m) in zip(samples, args):\n",
    "    res.append([n, s, s/n])\n",
    "\n",
    "df = pd.DataFrame(res, columns=['Population', 'Sample size', 'Ratio'])\n",
    "df"
   ]
  },
  {
   "cell_type": "markdown",
   "id": "c114c923",
   "metadata": {},
   "source": [
    "Let's look at 1 million checks, how many checks we need to backtest to make sure only 20 can fail, guessing that according with previous result the number should be around 15%"
   ]
  },
  {
   "cell_type": "code",
   "execution_count": 125,
   "id": "e85aa3d4",
   "metadata": {},
   "outputs": [
    {
     "data": {
      "image/png": "[encoded data removed]",
      "text/plain": [
       "<Figure size 432x288 with 1 Axes>"
      ]
     },
     "metadata": {
      "needs_background": "light"
     },
     "output_type": "display_data"
    }
   ],
   "source": [
    "x = []\n",
    "y = []\n",
    "for backtest_size in range(10_000, 200_000, 50_000):\n",
    "    x.append(backtest_size)\n",
    "    y.append(simulate(1_000_000, 20, backtest_size, num_experiments=1000))\n",
    "    \n",
    "plt.plot(x, y)\n",
    "plt.axhline(y=0.95, color='red', linestyle='--')\n",
    "plt.show()"
   ]
  },
  {
   "cell_type": "markdown",
   "id": "f202603b",
   "metadata": {},
   "source": [
    "Yes, looks like again we need to test around 15% of the population. Let's now do a simulation with 20 errors and 15% of backtest sample size for different total checks numbers:"
   ]
  },
  {
   "cell_type": "code",
   "execution_count": null,
   "id": "cecac55b",
   "metadata": {},
   "outputs": [],
   "source": [
    "res = []\n",
    "for n in range(10_000, 100_000, 5000):\n",
    "    p = simulate(n, 20, int(n*0.15))\n",
    "    res.append((n, p))\n"
   ]
  },
  {
   "cell_type": "code",
   "execution_count": 135,
   "id": "6566e1cc",
   "metadata": {},
   "outputs": [
    {
     "data": {
      "text/html": [
       "<div>\n",
       "<style scoped>\n",
       "    .dataframe tbody tr th:only-of-type {\n",
       "        vertical-align: middle;\n",
       "    }\n",
       "\n",
       "    .dataframe tbody tr th {\n",
       "        vertical-align: top;\n",
       "    }\n",
       "\n",
       "    .dataframe thead th {\n",
       "        text-align: right;\n",
       "    }\n",
       "</style>\n",
       "<table border=\"1\" class=\"dataframe\">\n",
       "  <thead>\n",
       "    <tr style=\"text-align: right;\">\n",
       "      <th></th>\n",
       "      <th>N</th>\n",
       "      <th>Probability</th>\n",
       "    </tr>\n",
       "  </thead>\n",
       "  <tbody>\n",
       "    <tr>\n",
       "      <th>0</th>\n",
       "      <td>10000</td>\n",
       "      <td>0.9624</td>\n",
       "    </tr>\n",
       "    <tr>\n",
       "      <th>1</th>\n",
       "      <td>15000</td>\n",
       "      <td>0.9653</td>\n",
       "    </tr>\n",
       "    <tr>\n",
       "      <th>2</th>\n",
       "      <td>20000</td>\n",
       "      <td>0.9651</td>\n",
       "    </tr>\n",
       "    <tr>\n",
       "      <th>3</th>\n",
       "      <td>25000</td>\n",
       "      <td>0.9617</td>\n",
       "    </tr>\n",
       "    <tr>\n",
       "      <th>4</th>\n",
       "      <td>30000</td>\n",
       "      <td>0.9575</td>\n",
       "    </tr>\n",
       "    <tr>\n",
       "      <th>5</th>\n",
       "      <td>35000</td>\n",
       "      <td>0.9609</td>\n",
       "    </tr>\n",
       "    <tr>\n",
       "      <th>6</th>\n",
       "      <td>40000</td>\n",
       "      <td>0.9637</td>\n",
       "    </tr>\n",
       "    <tr>\n",
       "      <th>7</th>\n",
       "      <td>45000</td>\n",
       "      <td>0.9582</td>\n",
       "    </tr>\n",
       "    <tr>\n",
       "      <th>8</th>\n",
       "      <td>50000</td>\n",
       "      <td>0.9613</td>\n",
       "    </tr>\n",
       "    <tr>\n",
       "      <th>9</th>\n",
       "      <td>55000</td>\n",
       "      <td>0.9593</td>\n",
       "    </tr>\n",
       "    <tr>\n",
       "      <th>10</th>\n",
       "      <td>60000</td>\n",
       "      <td>0.9595</td>\n",
       "    </tr>\n",
       "    <tr>\n",
       "      <th>11</th>\n",
       "      <td>65000</td>\n",
       "      <td>0.9624</td>\n",
       "    </tr>\n",
       "    <tr>\n",
       "      <th>12</th>\n",
       "      <td>70000</td>\n",
       "      <td>0.9607</td>\n",
       "    </tr>\n",
       "    <tr>\n",
       "      <th>13</th>\n",
       "      <td>75000</td>\n",
       "      <td>0.9607</td>\n",
       "    </tr>\n",
       "    <tr>\n",
       "      <th>14</th>\n",
       "      <td>80000</td>\n",
       "      <td>0.9613</td>\n",
       "    </tr>\n",
       "    <tr>\n",
       "      <th>15</th>\n",
       "      <td>85000</td>\n",
       "      <td>0.9590</td>\n",
       "    </tr>\n",
       "    <tr>\n",
       "      <th>16</th>\n",
       "      <td>90000</td>\n",
       "      <td>0.9622</td>\n",
       "    </tr>\n",
       "    <tr>\n",
       "      <th>17</th>\n",
       "      <td>95000</td>\n",
       "      <td>0.9603</td>\n",
       "    </tr>\n",
       "  </tbody>\n",
       "</table>\n",
       "</div>"
      ],
      "text/plain": [
       "        N  Probability\n",
       "0   10000       0.9624\n",
       "1   15000       0.9653\n",
       "2   20000       0.9651\n",
       "3   25000       0.9617\n",
       "4   30000       0.9575\n",
       "5   35000       0.9609\n",
       "6   40000       0.9637\n",
       "7   45000       0.9582\n",
       "8   50000       0.9613\n",
       "9   55000       0.9593\n",
       "10  60000       0.9595\n",
       "11  65000       0.9624\n",
       "12  70000       0.9607\n",
       "13  75000       0.9607\n",
       "14  80000       0.9613\n",
       "15  85000       0.9590\n",
       "16  90000       0.9622\n",
       "17  95000       0.9603"
      ]
     },
     "execution_count": 135,
     "metadata": {},
     "output_type": "execute_result"
    }
   ],
   "source": [
    "df = pd.DataFrame(res, columns=('N', 'Probability'))\n",
    "df"
   ]
  },
  {
   "cell_type": "code",
   "execution_count": 136,
   "id": "0ab3374c",
   "metadata": {},
   "outputs": [
    {
     "data": {
      "text/html": [
       "<div>\n",
       "<style scoped>\n",
       "    .dataframe tbody tr th:only-of-type {\n",
       "        vertical-align: middle;\n",
       "    }\n",
       "\n",
       "    .dataframe tbody tr th {\n",
       "        vertical-align: top;\n",
       "    }\n",
       "\n",
       "    .dataframe thead th {\n",
       "        text-align: right;\n",
       "    }\n",
       "</style>\n",
       "<table border=\"1\" class=\"dataframe\">\n",
       "  <thead>\n",
       "    <tr style=\"text-align: right;\">\n",
       "      <th></th>\n",
       "      <th>N</th>\n",
       "      <th>Probability</th>\n",
       "    </tr>\n",
       "  </thead>\n",
       "  <tbody>\n",
       "    <tr>\n",
       "      <th>0</th>\n",
       "      <td>100000</td>\n",
       "      <td>0.9577</td>\n",
       "    </tr>\n",
       "    <tr>\n",
       "      <th>1</th>\n",
       "      <td>200000</td>\n",
       "      <td>0.9646</td>\n",
       "    </tr>\n",
       "    <tr>\n",
       "      <th>2</th>\n",
       "      <td>300000</td>\n",
       "      <td>0.9621</td>\n",
       "    </tr>\n",
       "    <tr>\n",
       "      <th>3</th>\n",
       "      <td>400000</td>\n",
       "      <td>0.9596</td>\n",
       "    </tr>\n",
       "    <tr>\n",
       "      <th>4</th>\n",
       "      <td>500000</td>\n",
       "      <td>0.9614</td>\n",
       "    </tr>\n",
       "    <tr>\n",
       "      <th>5</th>\n",
       "      <td>600000</td>\n",
       "      <td>0.9643</td>\n",
       "    </tr>\n",
       "    <tr>\n",
       "      <th>6</th>\n",
       "      <td>700000</td>\n",
       "      <td>0.9612</td>\n",
       "    </tr>\n",
       "    <tr>\n",
       "      <th>7</th>\n",
       "      <td>800000</td>\n",
       "      <td>0.9626</td>\n",
       "    </tr>\n",
       "    <tr>\n",
       "      <th>8</th>\n",
       "      <td>900000</td>\n",
       "      <td>0.9601</td>\n",
       "    </tr>\n",
       "  </tbody>\n",
       "</table>\n",
       "</div>"
      ],
      "text/plain": [
       "        N  Probability\n",
       "0  100000       0.9577\n",
       "1  200000       0.9646\n",
       "2  300000       0.9621\n",
       "3  400000       0.9596\n",
       "4  500000       0.9614\n",
       "5  600000       0.9643\n",
       "6  700000       0.9612\n",
       "7  800000       0.9626\n",
       "8  900000       0.9601"
      ]
     },
     "execution_count": 136,
     "metadata": {},
     "output_type": "execute_result"
    }
   ],
   "source": [
    "res = []\n",
    "for n in range(100_000, 1_000_000, 100_000):\n",
    "    p = simulate(n, 20, int(n*0.15))\n",
    "    res.append((n, p))\n",
    "df = pd.DataFrame(res, columns=('N', 'Probability'))\n",
    "df"
   ]
  },
  {
   "cell_type": "markdown",
   "id": "66c70fa4",
   "metadata": {},
   "source": [
    "As we can see 15% of population works good for small and large populations up to 1 million.\n",
    "\n",
    "## Conclusion\n",
    "\n",
    "With no less than 95% probablilty we can backtest:\n",
    "\n",
    "* 300 checks to be sure than no more than 1% can fail or\n",
    "* 15% of total checks to allow no more than 20 checks to fail"
   ]
  },
  {
   "cell_type": "code",
   "execution_count": null,
   "id": "1cb06170",
   "metadata": {},
   "outputs": [],
   "source": []
  }
 ],
 "metadata": {
  "kernelspec": {
   "display_name": "Python 3 (ipykernel)",
   "language": "python",
   "name": "python3"
  },
  "language_info": {
   "codemirror_mode": {
    "name": "ipython",
    "version": 3
   },
   "file_extension": ".py",
   "mimetype": "text/x-python",
   "name": "python",
   "nbconvert_exporter": "python",
   "pygments_lexer": "ipython3",
   "version": "3.9.7"
  }
 },
 "nbformat": 4,
 "nbformat_minor": 5
}
